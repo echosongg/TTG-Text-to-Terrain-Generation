{
 "cells": [
  {
   "cell_type": "markdown",
   "id": "61f0a217-e590-4ed0-a4fa-9f7f17b9df8f",
   "metadata": {
    "tags": []
   },
   "source": [
    "# Step 1: Train the Distribution Classifier"
   ]
  },
  {
   "cell_type": "code",
   "execution_count": 8,
   "id": "a2a9942d-5599-4bf8-90fd-b03082ae10f4",
   "metadata": {},
   "outputs": [],
   "source": [
    "import torch\n",
    "from torch import nn\n",
    "from torch.utils.data import DataLoader, TensorDataset\n",
    "import pandas as pd\n",
    "import matplotlib.pyplot as plt"
   ]
  },
  {
   "cell_type": "markdown",
   "id": "e47f64e1-f51e-4b46-aa99-487da7a9d3c2",
   "metadata": {},
   "source": [
    "## 1.0 Hyperparameters and Paths"
   ]
  },
  {
   "cell_type": "code",
   "execution_count": 9,
   "id": "07ff3b76-cabe-4466-929f-b7df23bc501b",
   "metadata": {},
   "outputs": [],
   "source": [
    "INPUT_DIM =31\n",
    "HIDDEN_DIM = [64, 32, 16]\n",
    "LABEL_NUM = 5\n",
    "BATCH_SIZE_1 = 32\n",
    "EPOCH_1 = 20\n",
    "LEARNING_RATE_1 = 0.001\n",
    "TRAIN_PATH_1 = \"data/distribution/distribution_train.csv\"\n",
    "TEST_PATH_1 = \"data/distribution/distribution_test.csv\"\n",
    "SAVE_MODEL_PATH_1 = \"model/best_classifier.pth\""
   ]
  },
  {
   "cell_type": "markdown",
   "id": "e4d2e955-05b3-4de8-b56a-4d2fd77b68f0",
   "metadata": {},
   "source": [
    "## 1.1 Load Data"
   ]
  },
  {
   "cell_type": "code",
   "execution_count": 10,
   "id": "1b9af0be-93c0-44fd-bd6d-a43c83f7a9d5",
   "metadata": {},
   "outputs": [],
   "source": [
    "# Data Loading\n",
    "def load_data(path):\n",
    "    data = pd.read_csv(path)\n",
    "    features = data.iloc[:, :-1].values\n",
    "    labels = data.iloc[:, -1].values\n",
    "    return torch.tensor(features, dtype=torch.float32), torch.tensor(labels, dtype=torch.long)\n",
    "\n",
    "# Load Data\n",
    "train_path_1 = TRAIN_PATH_1\n",
    "test_path_1 = TEST_PATH_1\n",
    "train_features_1, train_labels_1 = load_data(train_path_1)\n",
    "test_features_1, test_labels_1 = load_data(test_path_1)\n",
    "\n",
    "# DataLoader\n",
    "train_loader = DataLoader(TensorDataset(train_features_1, train_labels_1), batch_size=BATCH_SIZE_1, shuffle=True)\n",
    "test_loader = DataLoader(TensorDataset(test_features_1, test_labels_1), batch_size=BATCH_SIZE_1, shuffle=False)"
   ]
  },
  {
   "cell_type": "markdown",
   "id": "c58f87c6-feeb-469a-a907-fbb2f1c88079",
   "metadata": {},
   "source": [
    "## 1.2 Define Classifier"
   ]
  },
  {
   "cell_type": "code",
   "execution_count": 11,
   "id": "f4529bfc-2c1e-4113-98db-10140b7d97e6",
   "metadata": {},
   "outputs": [],
   "source": [
    "# Define the Class\n",
    "class MLPClassifier(nn.Module):\n",
    "    def __init__(self, input_dim, hidden_dims, output_dim):\n",
    "        super().__init__()\n",
    "        layers = []\n",
    "        for i in range(len(hidden_dims)):\n",
    "            if i == 0:\n",
    "                layers.append(nn.Linear(input_dim, hidden_dims[i]))\n",
    "            else:\n",
    "                layers.append(nn.Linear(hidden_dims[i-1], hidden_dims[i]))\n",
    "            layers.append(nn.ReLU())\n",
    "        \n",
    "        # Add the final layer\n",
    "        layers.append(nn.Linear(hidden_dims[-1], output_dim))\n",
    "        \n",
    "        self.layers = nn.Sequential(*layers)\n",
    "\n",
    "    def forward(self, x):\n",
    "        return self.layers(x)"
   ]
  },
  {
   "cell_type": "markdown",
   "id": "00cbb589-0421-417d-bd01-2069f06a4282",
   "metadata": {
    "tags": []
   },
   "source": [
    "## 1.3 Define Train and Evaluation Function"
   ]
  },
  {
   "cell_type": "code",
   "execution_count": 12,
   "id": "8bdfae5a-6063-4cba-bd44-b6c9e2ab9342",
   "metadata": {},
   "outputs": [],
   "source": [
    "def train_and_evaluate(train_loader, valid_loader, model, criterion, optimizer, epochs=EPOCH_1):\n",
    "    best_model = None\n",
    "    best_accuracy = 0\n",
    "    train_losses = []\n",
    "    valid_accuracies = []\n",
    "\n",
    "    for epoch in range(epochs):\n",
    "        model.train()\n",
    "        train_loss = 0\n",
    "        for features, labels in train_loader:\n",
    "            optimizer.zero_grad()\n",
    "            outputs = model(features)\n",
    "            loss = criterion(outputs, labels)\n",
    "            loss.backward()\n",
    "            optimizer.step()\n",
    "            train_loss += loss.item()\n",
    "\n",
    "        train_losses.append(train_loss / len(train_loader))\n",
    "\n",
    "        model.eval()\n",
    "        correct = 0\n",
    "        total = 0\n",
    "        with torch.no_grad():\n",
    "            for features, labels in valid_loader:\n",
    "                outputs = model(features)\n",
    "                _, predicted = torch.max(outputs, 1)\n",
    "                total += labels.size(0)\n",
    "                correct += (predicted == labels).sum().item()\n",
    "\n",
    "        accuracy = correct / total\n",
    "        valid_accuracies.append(accuracy)\n",
    "\n",
    "        if accuracy > best_accuracy:\n",
    "            best_accuracy = accuracy\n",
    "            best_model = model.state_dict()\n",
    "\n",
    "        print(f'Epoch {epoch+1}: Train Loss: {train_loss / len(train_loader):.4f}, Valid Accuracy: {accuracy:.4f}')\n",
    "\n",
    "    return best_model, train_losses, valid_accuracies"
   ]
  },
  {
   "cell_type": "markdown",
   "id": "c0dd3966-8ba7-4912-85b9-37c08ae3c3b7",
   "metadata": {},
   "source": [
    "## 1.4 Train and Save Best Model"
   ]
  },
  {
   "cell_type": "code",
   "execution_count": 13,
   "id": "819d6568-39d1-418a-b127-5af56c2e8e6c",
   "metadata": {},
   "outputs": [
    {
     "name": "stdout",
     "output_type": "stream",
     "text": [
      "Epoch 1: Train Loss: 1.4978, Valid Accuracy: 0.5467\n",
      "Epoch 2: Train Loss: 0.8812, Valid Accuracy: 0.5933\n",
      "Epoch 3: Train Loss: 0.6048, Valid Accuracy: 0.8600\n",
      "Epoch 4: Train Loss: 0.4088, Valid Accuracy: 1.0000\n",
      "Epoch 5: Train Loss: 0.2197, Valid Accuracy: 1.0000\n",
      "Epoch 6: Train Loss: 0.0782, Valid Accuracy: 1.0000\n",
      "Epoch 7: Train Loss: 0.0228, Valid Accuracy: 1.0000\n",
      "Epoch 8: Train Loss: 0.0121, Valid Accuracy: 1.0000\n",
      "Epoch 9: Train Loss: 0.0082, Valid Accuracy: 1.0000\n",
      "Epoch 10: Train Loss: 0.0060, Valid Accuracy: 1.0000\n",
      "Epoch 11: Train Loss: 0.0049, Valid Accuracy: 1.0000\n",
      "Epoch 12: Train Loss: 0.0042, Valid Accuracy: 1.0000\n",
      "Epoch 13: Train Loss: 0.0036, Valid Accuracy: 1.0000\n",
      "Epoch 14: Train Loss: 0.0032, Valid Accuracy: 1.0000\n",
      "Epoch 15: Train Loss: 0.0029, Valid Accuracy: 1.0000\n",
      "Epoch 16: Train Loss: 0.0025, Valid Accuracy: 1.0000\n",
      "Epoch 17: Train Loss: 0.0023, Valid Accuracy: 1.0000\n",
      "Epoch 18: Train Loss: 0.0019, Valid Accuracy: 1.0000\n",
      "Epoch 19: Train Loss: 0.0017, Valid Accuracy: 1.0000\n",
      "Epoch 20: Train Loss: 0.0016, Valid Accuracy: 1.0000\n",
      "The model has been saved to model/best_classifier.pth\n"
     ]
    }
   ],
   "source": [
    "# Model initialization\n",
    "model = MLPClassifier(INPUT_DIM, HIDDEN_DIM, LABEL_NUM)\n",
    "criterion = nn.CrossEntropyLoss()\n",
    "optimizer = torch.optim.Adam(model.parameters(), lr=LEARNING_RATE_1)\n",
    "\n",
    "# Train and Evaluation\n",
    "best_model, train_losses, test_accuracies = train_and_evaluate(train_loader, test_loader, model, criterion, optimizer)\n",
    "\n",
    "# Save the best model\n",
    "save_path = SAVE_MODEL_PATH_1\n",
    "torch.save(best_model, save_path)\n",
    "print(f\"The model has been saved to {save_path}\")"
   ]
  },
  {
   "cell_type": "markdown",
   "id": "8c354411-7a63-4875-985f-a08812cce226",
   "metadata": {},
   "source": [
    "## 1.5 Training Process Visualization"
   ]
  },
  {
   "cell_type": "code",
   "execution_count": 14,
   "id": "34dbd61c-405a-47da-83d1-17b011a8d47c",
   "metadata": {},
   "outputs": [
    {
     "data": {
      "image/png": "[encoded data removed]",
      "text/plain": [
       "<Figure size 1200x500 with 2 Axes>"
      ]
     },
     "metadata": {},
     "output_type": "display_data"
    }
   ],
   "source": [
    "# Plot the loss and accuracy\n",
    "plt.figure(figsize=(12, 5))\n",
    "plt.subplot(1, 2, 1)\n",
    "plt.plot(train_losses, label='Train Loss')\n",
    "plt.title('Training Loss per Epoch')\n",
    "plt.legend()\n",
    "\n",
    "plt.subplot(1, 2, 2)\n",
    "plt.plot(test_accuracies, label='Evaluation Accuracy')\n",
    "plt.title('Evaluation Accuracy per Epoch')\n",
    "plt.legend()\n",
    "plt.show()"
   ]
  },
  {
   "cell_type": "code",
   "execution_count": null,
   "id": "f57b7575-6eab-4047-b52e-5a918132f8a1",
   "metadata": {},
   "outputs": [],
   "source": []
  }
 ],
 "metadata": {
  "kernelspec": {
   "display_name": "myConda",
   "language": "python",
   "name": "myconda"
  },
  "language_info": {
   "codemirror_mode": {
    "name": "ipython",
    "version": 3
   },
   "file_extension": ".py",
   "mimetype": "text/x-python",
   "name": "python",
   "nbconvert_exporter": "python",
   "pygments_lexer": "ipython3",
   "version": "3.10.13"
  }
 },
 "nbformat": 4,
 "nbformat_minor": 5
}
