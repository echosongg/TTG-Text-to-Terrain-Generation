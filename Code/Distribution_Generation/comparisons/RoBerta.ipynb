{
 "cells": [
  {
   "cell_type": "markdown",
   "id": "ca36ee2e-ec4f-4c30-9a4f-8c757d02a288",
   "metadata": {},
   "source": [
    "# Step 2: The text description generates the terrain distribution"
   ]
  },
  {
   "cell_type": "code",
   "execution_count": 7,
   "id": "d5dcab3a-6c1d-4530-8120-ef37e1b6c5c9",
   "metadata": {},
   "outputs": [
    {
     "name": "stderr",
     "output_type": "stream",
     "text": [
      "C:\\ProgramData\\miniconda3\\envs\\myConda\\lib\\site-packages\\transformers\\utils\\generic.py:311: UserWarning: torch.utils._pytree._register_pytree_node is deprecated. Please use torch.utils._pytree.register_pytree_node instead.\n",
      "  torch.utils._pytree._register_pytree_node(\n"
     ]
    }
   ],
   "source": [
    "import torch\n",
    "from torch import nn\n",
    "from torch.utils.data import DataLoader, TensorDataset\n",
    "import pandas as pd\n",
    "from transformers import RobertaModel, RobertaTokenizer\n",
    "import matplotlib.pyplot as plt"
   ]
  },
  {
   "cell_type": "markdown",
   "id": "089768d8-37ec-4257-acde-81d16bf85aa5",
   "metadata": {},
   "source": [
    "## 1.0 Hyperparameters and Paths"
   ]
  },
  {
   "cell_type": "code",
   "execution_count": 8,
   "id": "221c9fa8-fc57-41c9-a880-2ffde45cd5e5",
   "metadata": {},
   "outputs": [],
   "source": [
    "MAX_TEXT_LENGTH = 20\n",
    "SUM_DISTRIBUTION = 256\n",
    "INTER_DIM =31\n",
    "HIDDEN_DIM_1 = [64, 32, 16]\n",
    "HIDDEN_DIM_2 = [512, 256, 128, 128, 64, 32, 16, 16, 32, 64, 32]\n",
    "LABEL_NUM = 5\n",
    "BATCH_SIZE_2= 8\n",
    "EPOCH_2 = 100\n",
    "LEARNING_RATE_2 = 0.001\n",
    "TRAIN_PATH_2 = \"../data/text/prompt_train.csv\"\n",
    "VALID_PATH_2 = \"../data/text/prompt_valid.csv\"\n",
    "TEST_PATH_2 = \"../data/text/prompt_test.csv\"\n",
    "SAVE_MODEL_PATH_1 = \"../model/best_classifier.pth\"\n",
    "SAVE_MODEL_PATH_2 = \"../model/best_generator.pth\""
   ]
  },
  {
   "cell_type": "markdown",
   "id": "b39ebebe-1d20-4d97-b20f-c9983b9fc301",
   "metadata": {},
   "source": [
    "## 2.1 Load Data Model and Pre-process"
   ]
  },
  {
   "cell_type": "code",
   "execution_count": 9,
   "id": "e8001c4f-a348-4760-840e-3352fbc5e47a",
   "metadata": {},
   "outputs": [],
   "source": [
    "class TextDataset(torch.utils.data.Dataset):\n",
    "    def __init__(self, filepath, tokenizer, max_length=MAX_TEXT_LENGTH):\n",
    "        self.data = pd.read_csv(filepath)\n",
    "        self.texts = self.data.iloc[:, 0].tolist()\n",
    "        self.labels = self.data.iloc[:, 1].tolist()\n",
    "        self.tokenizer = tokenizer\n",
    "        self.max_length = max_length\n",
    "\n",
    "    def __len__(self):\n",
    "        return len(self.texts)\n",
    "\n",
    "    def __getitem__(self, idx):\n",
    "        text = self.texts[idx]\n",
    "        inputs = self.tokenizer(text, max_length=self.max_length, padding='max_length', truncation=True, return_tensors=\"pt\")\n",
    "        input_ids = inputs['input_ids'].squeeze()\n",
    "        attention_mask = inputs['attention_mask'].squeeze()\n",
    "        label = self.labels[idx]\n",
    "        return input_ids, attention_mask, label"
   ]
  },
  {
   "cell_type": "code",
   "execution_count": 10,
   "id": "d8abb0ad-7dc9-4650-85e6-6b715ac56482",
   "metadata": {},
   "outputs": [],
   "source": [
    "# Define the Class\n",
    "class MLPClassifier(nn.Module):\n",
    "    def __init__(self, input_dim, hidden_dims, output_dim):\n",
    "        super().__init__()\n",
    "        layers = []\n",
    "        for i in range(len(hidden_dims)):\n",
    "            if i == 0:\n",
    "                layers.append(nn.Linear(input_dim, hidden_dims[i]))\n",
    "            else:\n",
    "                layers.append(nn.Linear(hidden_dims[i-1], hidden_dims[i]))\n",
    "            layers.append(nn.ReLU())\n",
    "        \n",
    "        # Add the final layer\n",
    "        layers.append(nn.Linear(hidden_dims[-1], output_dim))\n",
    "        \n",
    "        self.layers = nn.Sequential(*layers)\n",
    "\n",
    "    def forward(self, x):\n",
    "        return self.layers(x)"
   ]
  },
  {
   "cell_type": "code",
   "execution_count": 11,
   "id": "1a92053c-607a-45a3-b848-c8507ffaf1cd",
   "metadata": {},
   "outputs": [],
   "source": [
    "# Load Tokenizer\n",
    "tokenizer = RobertaTokenizer.from_pretrained('roberta-base')\n",
    "\n",
    "# Load Data\n",
    "train_dataset = TextDataset(TRAIN_PATH_2, tokenizer)\n",
    "valid_dataset = TextDataset(VALID_PATH_2, tokenizer)\n",
    "test_dataset = TextDataset(TEST_PATH_2, tokenizer)\n",
    "train_loader= DataLoader(train_dataset, batch_size=BATCH_SIZE_2, shuffle=True)\n",
    "valid_loader = DataLoader(valid_dataset, batch_size=BATCH_SIZE_2, shuffle=False)\n",
    "test_loader = DataLoader(test_dataset, batch_size=BATCH_SIZE_2, shuffle=False)"
   ]
  },
  {
   "cell_type": "markdown",
   "id": "cfb8f51e-5c3f-4f65-a57c-4bdb6a3427d0",
   "metadata": {},
   "source": [
    "## 2.2 Mapping Text Features"
   ]
  },
  {
   "cell_type": "code",
   "execution_count": 12,
   "id": "20b2c60b-5db8-4122-a79e-314ec2dd822c",
   "metadata": {},
   "outputs": [],
   "source": [
    "class MLPForFeatureMapping(nn.Module):\n",
    "    def __init__(self, feature_dim, output_dim=INTER_DIM, hidden_dims=HIDDEN_DIM_2, sum_distribution=SUM_DISTRIBUTION):\n",
    "        super().__init__()\n",
    "        self.sum_distribution = sum_distribution\n",
    "        layers = [\n",
    "            nn.Linear(feature_dim, hidden_dims[0]),\n",
    "            nn.ReLU()\n",
    "        ]\n",
    "        \n",
    "        for i in range(1, len(hidden_dims)):\n",
    "            layers.append(nn.Linear(hidden_dims[i - 1], hidden_dims[i]))\n",
    "            layers.append(nn.ReLU())\n",
    "        \n",
    "        # Add the final output layer\n",
    "        layers.append(nn.Linear(hidden_dims[-1], output_dim))\n",
    "        \n",
    "        self.layers = nn.Sequential(*layers)\n",
    "\n",
    "    def forward(self, x):\n",
    "        x = self.layers(x)\n",
    "#         x = torch.softmax(x, dim=1) * self.sum_distribution\n",
    "#         x = torch.round(x)\n",
    "        \n",
    "#         # Ensure the sum of the elements in 31-D vector x equals SUM_DISTRIBUTION\n",
    "#         sum_x = x.sum(dim=1, keepdim=True)\n",
    "#         diff = self.sum_distribution - sum_x\n",
    "        \n",
    "#         for i in range(x.size(0)):\n",
    "#             while diff[i] != 0:\n",
    "#                 if diff[i] > 0:\n",
    "#                     idx = torch.argmin(x[i])\n",
    "#                     x[i][idx] += 1\n",
    "#                     diff[i] -= 1\n",
    "#                 else:\n",
    "#                     idx = torch.argmax(x[i])\n",
    "#                     x[i][idx] -= 1\n",
    "#                     diff[i] += 1\n",
    "        \n",
    "        return x"
   ]
  },
  {
   "cell_type": "markdown",
   "id": "b4e17581-dfad-40d3-8e14-9df3413fb7d9",
   "metadata": {},
   "source": [
    "## 2.3 Terrain Height Distribution Generator"
   ]
  },
  {
   "cell_type": "markdown",
   "id": "77557576-5d2c-4c1a-a5bd-0dca6a6710c9",
   "metadata": {},
   "source": [
    "### 2.3.1 Mean Pooling (2.3.1 and 2.3.2 can only choose 1 from 2)"
   ]
  },
  {
   "cell_type": "code",
   "execution_count": 13,
   "id": "cc7ae856-27ab-4f3f-a6e2-99a9edf09474",
   "metadata": {},
   "outputs": [],
   "source": [
    "class CompleteModel(nn.Module):\n",
    "    def __init__(self, text_model, feature_mapper, classifier):\n",
    "        super().__init__()\n",
    "        self.text_model = text_model\n",
    "        self.feature_mapper = feature_mapper\n",
    "        self.classifier = classifier\n",
    "\n",
    "    def forward(self, input_ids, attention_mask):\n",
    "        with torch.no_grad():\n",
    "            outputs = self.text_model(input_ids=input_ids, attention_mask=attention_mask)\n",
    "\n",
    "        # Apply mean pooling across the sequence dimension\n",
    "        pooled_output = torch.mean(outputs.last_hidden_state, dim=1)  # shape: (batch_size, hidden_dim)\n",
    "\n",
    "        mapped_features = self.feature_mapper(pooled_output)\n",
    "        logits = self.classifier(mapped_features)\n",
    "        return logits"
   ]
  },
  {
   "cell_type": "markdown",
   "id": "942c9ac6-3089-4803-99a3-2ad9fc768f65",
   "metadata": {},
   "source": [
    "### 2.3.2 Attention-based Pooling Layer (2.3.1 and 2.3.2 can only choose 1 from 2)"
   ]
  },
  {
   "cell_type": "code",
   "execution_count": 14,
   "id": "8b5871b0-d4c8-406a-9a31-54cd02ad23dd",
   "metadata": {},
   "outputs": [],
   "source": [
    "class AttentionPooler(nn.Module):\n",
    "    def __init__(self, input_dim):\n",
    "        super().__init__()\n",
    "        self.attention_weights = nn.Linear(input_dim, 1)\n",
    "\n",
    "    def forward(self, x):\n",
    "        # x shape: (batch_size, seq_length, input_dim)\n",
    "        weights = torch.softmax(self.attention_weights(x), dim=1)  # shape: (batch_size, seq_length, 1)\n",
    "        pooled_output = torch.sum(weights * x, dim=1)  # shape: (batch_size, input_dim)\n",
    "        return pooled_output\n",
    "\n",
    "class CompleteModel(nn.Module):\n",
    "    def __init__(self, text_model, feature_mapper, classifier):\n",
    "        super().__init__()\n",
    "        self.text_model = text_model\n",
    "        self.feature_mapper = feature_mapper\n",
    "        self.classifier = classifier\n",
    "        self.pooler = AttentionPooler(self.text_model.config.hidden_size)\n",
    "\n",
    "    def forward(self, input_ids, attention_mask):\n",
    "        with torch.no_grad():\n",
    "            outputs = self.text_model(input_ids=input_ids, attention_mask=attention_mask)\n",
    "\n",
    "        # Apply attention pooling to get a single vector\n",
    "        pooled_output = self.pooler(outputs.last_hidden_state)  # shape: (batch_size, hidden_dim)\n",
    "        mapped_features = self.feature_mapper(pooled_output)\n",
    "        logits = self.classifier(mapped_features)\n",
    "        return logits"
   ]
  },
  {
   "cell_type": "markdown",
   "id": "3311f786-f8e7-4af8-97a6-fd62e6e537dc",
   "metadata": {},
   "source": [
    "## 2.4 Define Train and Evaluation Function"
   ]
  },
  {
   "cell_type": "code",
   "execution_count": 15,
   "id": "486381fd-937a-4596-b74c-c25c8e027070",
   "metadata": {},
   "outputs": [],
   "source": [
    "def train_model(model, train_loader, valid_loader, criterion, optimizer, epochs=EPOCH_2, device='cuda'):\n",
    "    model.to(device)\n",
    "    best_valid_accuracy = 0\n",
    "    best_model_state = None\n",
    "    \n",
    "    # Lists to store metrics\n",
    "    train_losses = []\n",
    "    valid_accuracies = []\n",
    "\n",
    "    for epoch in range(epochs):\n",
    "        model.train()\n",
    "        total_loss = 0\n",
    "        total_train_samples = 0\n",
    "        for input_ids, attention_mask, labels in train_loader:\n",
    "            input_ids, attention_mask, labels = input_ids.to(device), attention_mask.to(device), labels.to(device)\n",
    "            \n",
    "            optimizer.zero_grad()\n",
    "            outputs = model(input_ids, attention_mask)\n",
    "            loss = criterion(outputs, labels)\n",
    "            loss.backward()\n",
    "            optimizer.step()\n",
    "            \n",
    "            total_loss += loss.item() * labels.size(0)\n",
    "            total_train_samples += labels.size(0)\n",
    "\n",
    "        avg_train_loss = total_loss / total_train_samples\n",
    "        train_losses.append(avg_train_loss)\n",
    "\n",
    "        model.eval()\n",
    "        total_correct = 0\n",
    "        total_valid_samples = 0\n",
    "        with torch.no_grad():\n",
    "            for input_ids, attention_mask, labels in valid_loader:\n",
    "                input_ids, attention_mask, labels = input_ids.to(device), attention_mask.to(device), labels.to(device)\n",
    "                \n",
    "                outputs = model(input_ids, attention_mask)\n",
    "                _, predicted = outputs.max(1)\n",
    "                total_correct += (predicted == labels).sum().item()\n",
    "                total_valid_samples += labels.size(0)\n",
    "\n",
    "        valid_accuracy = total_correct / total_valid_samples\n",
    "        valid_accuracies.append(valid_accuracy)\n",
    "\n",
    "        if valid_accuracy > best_valid_accuracy:\n",
    "            best_valid_accuracy = valid_accuracy\n",
    "            best_model_state = model.state_dict()\n",
    "\n",
    "        print(f'Epoch {epoch + 1}, Train Loss: {avg_train_loss:.4f}, Validation Accuracy: {valid_accuracy:.4f}')\n",
    "\n",
    "    return best_model_state, train_losses, valid_accuracies"
   ]
  },
  {
   "cell_type": "markdown",
   "id": "26b571e4-b155-4059-b059-93aef3b046fb",
   "metadata": {},
   "source": [
    "## 2.5 Train and Save Best Model"
   ]
  },
  {
   "cell_type": "code",
   "execution_count": null,
   "id": "dfe203b1-f085-436e-b308-220a2512d8cc",
   "metadata": {},
   "outputs": [
    {
     "name": "stderr",
     "output_type": "stream",
     "text": [
      "Some weights of RobertaModel were not initialized from the model checkpoint at roberta-base and are newly initialized: ['roberta.pooler.dense.bias', 'roberta.pooler.dense.weight']\n",
      "You should probably TRAIN this model on a down-stream task to be able to use it for predictions and inference.\n"
     ]
    },
    {
     "name": "stdout",
     "output_type": "stream",
     "text": [
      "Epoch 1, Train Loss: 1.6106, Validation Accuracy: 0.2000\n",
      "Epoch 2, Train Loss: 1.6102, Validation Accuracy: 0.2000\n",
      "Epoch 3, Train Loss: 1.6103, Validation Accuracy: 0.2000\n",
      "Epoch 4, Train Loss: 1.6101, Validation Accuracy: 0.2000\n",
      "Epoch 5, Train Loss: 1.6101, Validation Accuracy: 0.2000\n",
      "Epoch 6, Train Loss: 1.5281, Validation Accuracy: 0.2800\n",
      "Epoch 7, Train Loss: 1.3186, Validation Accuracy: 0.3600\n",
      "Epoch 8, Train Loss: 1.3126, Validation Accuracy: 0.3200\n",
      "Epoch 9, Train Loss: 1.2908, Validation Accuracy: 0.3200\n",
      "Epoch 10, Train Loss: 1.2786, Validation Accuracy: 0.3600\n",
      "Epoch 11, Train Loss: 1.4228, Validation Accuracy: 0.2800\n",
      "Epoch 12, Train Loss: 1.4030, Validation Accuracy: 0.2800\n",
      "Epoch 13, Train Loss: 1.2134, Validation Accuracy: 0.3600\n",
      "Epoch 14, Train Loss: 1.3107, Validation Accuracy: 0.2800\n",
      "Epoch 15, Train Loss: 1.2197, Validation Accuracy: 0.3200\n",
      "Epoch 16, Train Loss: 1.1993, Validation Accuracy: 0.3200\n"
     ]
    }
   ],
   "source": [
    "device = torch.device('cuda' if torch.cuda.is_available() else 'cpu')\n",
    "\n",
    "# Model initialization\n",
    "roberta = RobertaModel.from_pretrained('roberta-base')\n",
    "mlp = MLPForFeatureMapping(roberta.config.hidden_size)\n",
    "classifier = MLPClassifier(INTER_DIM, HIDDEN_DIM_1, LABEL_NUM)\n",
    "classifier.load_state_dict(torch.load(SAVE_MODEL_PATH_1))\n",
    "model = CompleteModel(roberta, mlp, classifier)\n",
    "model.classifier.requires_grad_(False)\n",
    "model.text_model.requires_grad_(False)\n",
    "\n",
    "# Optimization\n",
    "criterion = nn.CrossEntropyLoss()\n",
    "optimizer = torch.optim.Adam(model.parameters(), lr=LEARNING_RATE_2)\n",
    "\n",
    "# SAVE\n",
    "best_model_state, train_losses, valid_accuracies = train_model(model, train_loader, valid_loader, criterion, optimizer, device=device)\n",
    "torch.save(best_model_state, SAVE_MODEL_PATH_2)"
   ]
  },
  {
   "cell_type": "code",
   "execution_count": null,
   "id": "f1ea586b-9058-4302-b2ac-c914ebf3878c",
   "metadata": {},
   "outputs": [],
   "source": [
    "# Plotting\n",
    "plt.figure(figsize=(10, 4))\n",
    "plt.subplot(1, 2, 1)\n",
    "plt.plot(train_losses, label='Train Loss')\n",
    "plt.title('Training Loss per Epoch')\n",
    "plt.xlabel('Epoch')\n",
    "plt.ylabel('Loss')\n",
    "plt.legend()\n",
    "\n",
    "plt.subplot(1, 2, 2)\n",
    "plt.plot(valid_accuracies, label='Validation Accuracy')\n",
    "plt.title('Validation Accuracy per Epoch')\n",
    "plt.xlabel('Epoch')\n",
    "plt.ylabel('Accuracy')\n",
    "plt.legend()\n",
    "plt.show()"
   ]
  },
  {
   "cell_type": "markdown",
   "id": "6bd78e23-af94-463e-a663-2767b53551bd",
   "metadata": {},
   "source": [
    "## 2.6 Test"
   ]
  },
  {
   "cell_type": "code",
   "execution_count": null,
   "id": "928c990e-5b9f-4d48-942f-a3c4f0a555c5",
   "metadata": {},
   "outputs": [],
   "source": [
    "# Test Model\n",
    "model.load_state_dict(torch.load(SAVE_MODEL_PATH_2))\n",
    "model.eval()\n",
    "total_correct = 0\n",
    "total_samples = 0\n",
    "with torch.no_grad():\n",
    "    for input_ids, attention_mask, labels in test_loader:\n",
    "        outputs = model(input_ids, attention_mask)\n",
    "        _, predicted = outputs.max(1)\n",
    "        total_correct += (predicted == torch.tensor(labels, dtype=torch.long)).sum().item()\n",
    "        total_samples += len(labels)\n",
    "\n",
    "test_accuracy = total_correct / total_samples\n",
    "print(f'Test Accuracy: {test_accuracy:.4f}')"
   ]
  },
  {
   "cell_type": "code",
   "execution_count": null,
   "id": "4a6702ff-9ce6-411c-80a8-5c9e39f2eae4",
   "metadata": {},
   "outputs": [],
   "source": []
  },
  {
   "cell_type": "code",
   "execution_count": null,
   "id": "f34f9cb5-a180-47c0-b5df-1d237a19eeda",
   "metadata": {},
   "outputs": [],
   "source": []
  },
  {
   "cell_type": "code",
   "execution_count": null,
   "id": "29a0b62c-20e7-4ee4-a4d7-46f3f9eec6f7",
   "metadata": {},
   "outputs": [],
   "source": []
  },
  {
   "cell_type": "code",
   "execution_count": null,
   "id": "479290dd-3e71-4cf5-a58a-149b1768edd9",
   "metadata": {},
   "outputs": [],
   "source": []
  },
  {
   "cell_type": "code",
   "execution_count": 19,
   "id": "c4059a75-bb4d-4272-8edb-8e4f2b75b4bb",
   "metadata": {},
   "outputs": [
    {
     "data": {
      "image/png": "[encoded data removed]",
      "text/plain": [
       "<Figure size 640x480 with 1 Axes>"
      ]
     },
     "metadata": {},
     "output_type": "display_data"
    },
    {
     "name": "stdout",
     "output_type": "stream",
     "text": [
      "Accuracy: 0.2\n",
      "              precision    recall  f1-score   support\n",
      "\n",
      "           0       0.00      0.00      0.00        10\n",
      "           1       0.00      0.00      0.00        10\n",
      "           2       0.00      0.00      0.00        10\n",
      "           3       0.00      0.00      0.00        10\n",
      "           4       0.22      1.00      0.36        10\n",
      "\n",
      "    accuracy                           0.20        50\n",
      "   macro avg       0.04      0.20      0.07        50\n",
      "weighted avg       0.04      0.20      0.07        50\n",
      "\n"
     ]
    },
    {
     "name": "stderr",
     "output_type": "stream",
     "text": [
      "C:\\Users\\Kevin Liu\\AppData\\Roaming\\Python\\Python310\\site-packages\\sklearn\\metrics\\_classification.py:1344: UndefinedMetricWarning: Precision and F-score are ill-defined and being set to 0.0 in labels with no predicted samples. Use `zero_division` parameter to control this behavior.\n",
      "  _warn_prf(average, modifier, msg_start, len(result))\n",
      "C:\\Users\\Kevin Liu\\AppData\\Roaming\\Python\\Python310\\site-packages\\sklearn\\metrics\\_classification.py:1344: UndefinedMetricWarning: Precision and F-score are ill-defined and being set to 0.0 in labels with no predicted samples. Use `zero_division` parameter to control this behavior.\n",
      "  _warn_prf(average, modifier, msg_start, len(result))\n",
      "C:\\Users\\Kevin Liu\\AppData\\Roaming\\Python\\Python310\\site-packages\\sklearn\\metrics\\_classification.py:1344: UndefinedMetricWarning: Precision and F-score are ill-defined and being set to 0.0 in labels with no predicted samples. Use `zero_division` parameter to control this behavior.\n",
      "  _warn_prf(average, modifier, msg_start, len(result))\n"
     ]
    },
    {
     "data": {
      "image/png": "[encoded data removed]",
      "text/plain": [
       "<Figure size 640x480 with 1 Axes>"
      ]
     },
     "metadata": {},
     "output_type": "display_data"
    }
   ],
   "source": []
  }
 ],
 "metadata": {
  "kernelspec": {
   "display_name": "myConda",
   "language": "python",
   "name": "myconda"
  },
  "language_info": {
   "codemirror_mode": {
    "name": "ipython",
    "version": 3
   },
   "file_extension": ".py",
   "mimetype": "text/x-python",
   "name": "python",
   "nbconvert_exporter": "python",
   "pygments_lexer": "ipython3",
   "version": "3.10.13"
  }
 },
 "nbformat": 4,
 "nbformat_minor": 5
}
